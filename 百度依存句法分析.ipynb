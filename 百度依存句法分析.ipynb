{
 "cells": [
  {
   "cell_type": "code",
   "execution_count": 20,
   "metadata": {},
   "outputs": [
    {
     "name": "stdout",
     "output_type": "stream",
     "text": [
      "{'refresh_token': '25.a9ef70bf821f932625922e0abc8e1cd5.315360000.1890978204.282335-17604760', 'expires_in': 2592000, 'session_key': '9mzdCuEg3/uD6xetbmc/OAHVYjUgXzS0i4oOkzom2jEc0Tz+yqy8PQ7wvV9UsNYPdRYk6v2m35Al5hm8u1IpL5rAZKdgFA==', 'access_token': '24.1eee4692a0aa2bcab2e4f30bd2432655.2592000.1578210204.282335-17604760', 'scope': 'public nlp_simnet nlp_wordemb nlp_comtag nlp_dnnlm_cn brain_nlp_lexer brain_all_scope brain_nlp_comment_tag brain_nlp_dnnlm_cn brain_nlp_word_emb_vec brain_nlp_word_emb_sim brain_nlp_sentiment_classify brain_nlp_simnet brain_nlp_depparser brain_nlp_wordembedding brain_nlp_dnnlm_cn_legacy brain_nlp_simnet_legacy brain_nlp_comment_tag_legacy brain_nlp_lexer_custom brain_nlp_keyword brain_nlp_topic brain_nlp_ecnet brain_nlp_emotion brain_nlp_comment_tag_custom brain_nlp_news_summary brain_nlp_sentiment_classify_custom wise_adapt lebo_resource_base lightservice_public hetu_basic lightcms_map_poi kaidian_kaidian ApsMisTest_Test权限 vis-classify_flower lpq_开放 cop_helloScope ApsMis_fangdi_permission smartapp_snsapi_base iop_autocar oauth_tp_app smartapp_smart_game_openapi oauth_sessionkey smartapp_swanid_verify smartapp_opensource_openapi smartapp_opensource_recapi fake_face_detect_开放Scope vis-ocr_虚拟人物助理 idl-video_虚拟人物助理', 'session_secret': '7772d630e6ae20e82a6023a472bba14f'}\n"
     ]
    }
   ],
   "source": [
    "import requests \n",
    "# 获取Access Token https://ai.baidu.com/ai-doc/REFERENCE/Ck3dwjhhu\n",
    "# client_id 为官网获取的AK， client_secret 为官网获取的SK\n",
    "host = 'https://aip.baidubce.com/oauth/2.0/token?grant_type=client_credentials&client_id=？&client_secret=？'\n",
    "response = requests.get(host)\n",
    "if response:\n",
    "    print(response.json())"
   ]
  },
  {
   "cell_type": "code",
   "execution_count": 21,
   "metadata": {},
   "outputs": [
    {
     "name": "stdout",
     "output_type": "stream",
     "text": [
      "{'log_id': 5818311238325839558, 'error_code': 282004, 'error_msg': 'invalid parameter(s)'}\n"
     ]
    }
   ],
   "source": [
    "import json\n",
    "\n",
    "Header = {'Content-Type': 'application/json'}\n",
    "body = {\"text\": \"今天天气怎么样\",\"mode\":1}\n",
    "URL = \"https://aip.baidubce.com/rpc/2.0/nlp/v1/depparser?access_token=？\" # access_token的值上一步的运行结果中获得\n",
    "r = requests.post(URL,params=body,headers=Header,)\n",
    "response = r.json()\n",
    "\n",
    "print(response)\n"
   ]
  },
  {
   "cell_type": "markdown",
   "metadata": {},
   "source": [
    "### 官网给出的调用方式一持续出错：'error_code': 282004，应该是编码问题，暂未找到解决方法。尝试调用方式二。"
   ]
  },
  {
   "cell_type": "code",
   "execution_count": 22,
   "metadata": {},
   "outputs": [
    {
     "name": "stdout",
     "output_type": "stream",
     "text": [
      "{'items': [{'deprel': 'ATT', 'head': 2, 'id': 1, 'postag': 't', 'word': '今天'},\n",
      "           {'deprel': 'SBV', 'head': 3, 'id': 2, 'postag': 'n', 'word': '天气'},\n",
      "           {'deprel': 'HED', 'head': 0, 'id': 3, 'postag': 'r', 'word': '怎么样'}],\n",
      " 'log_id': 3167050706950264870,\n",
      " 'text': '今天天气怎么样'}\n"
     ]
    }
   ],
   "source": [
    "from aip import AipNlp  # pip install baidu-aip\n",
    "import pprint\n",
    "\n",
    "# 创建连接\n",
    "APP_ID = '？'\n",
    "API_KEY = '？'\n",
    "SECRET_KEY = '？'\n",
    "client = AipNlp(APP_ID, API_KEY, SECRET_KEY)\n",
    "\n",
    "# 依存句法分析\n",
    "text = '今天天气怎么样'\n",
    "dt = client.depParser(text)\n",
    "pprint.pprint(dt)\n"
   ]
  },
  {
   "cell_type": "code",
   "execution_count": 23,
   "metadata": {},
   "outputs": [
    {
     "name": "stdout",
     "output_type": "stream",
     "text": [
      "{'items': [{'deprel': 'ATT', 'head': 2, 'id': 1, 'postag': 't', 'word': '今天'},\n",
      "           {'deprel': 'SBV', 'head': 3, 'id': 2, 'postag': 'n', 'word': '天气'},\n",
      "           {'deprel': 'HED', 'head': 0, 'id': 3, 'postag': 'r', 'word': '怎么样'},\n",
      "           {'deprel': 'WP', 'head': 3, 'id': 4, 'postag': 'w', 'word': '？'}],\n",
      " 'log_id': 4563754317891864198,\n",
      " 'text': '今天天气怎么样？'}\n"
     ]
    }
   ],
   "source": [
    "text = '今天天气怎么样？'\n",
    "dt = client.depParser(text)\n",
    "pprint.pprint(dt)"
   ]
  },
  {
   "cell_type": "code",
   "execution_count": 24,
   "metadata": {},
   "outputs": [
    {
     "name": "stdout",
     "output_type": "stream",
     "text": [
      "{'items': [{'deprel': 'HED',\n",
      "            'head': 0,\n",
      "            'id': 1,\n",
      "            'postag': 'nz',\n",
      "            'word': '床前明月光'}],\n",
      " 'log_id': 3893058149574001606,\n",
      " 'text': '床前明月光'}\n"
     ]
    }
   ],
   "source": [
    "text = '床前明月光'\n",
    "dt = client.depParser(text)\n",
    "pprint.pprint(dt)"
   ]
  },
  {
   "cell_type": "code",
   "execution_count": 25,
   "metadata": {},
   "outputs": [
    {
     "name": "stdout",
     "output_type": "stream",
     "text": [
      "{'items': [{'deprel': 'ADV', 'head': 2, 'id': 1, 'postag': 'ad', 'word': '自动'},\n",
      "           {'deprel': 'HED', 'head': 0, 'id': 2, 'postag': 'v', 'word': '分析'},\n",
      "           {'deprel': 'ATT', 'head': 4, 'id': 3, 'postag': 'n', 'word': '文本'},\n",
      "           {'deprel': 'DE', 'head': 5, 'id': 4, 'postag': 'f', 'word': '中'},\n",
      "           {'deprel': 'DE', 'head': 8, 'id': 5, 'postag': 'u', 'word': '的'},\n",
      "           {'deprel': 'ATT', 'head': 8, 'id': 6, 'postag': 'v', 'word': '依存'},\n",
      "           {'deprel': 'ATT', 'head': 8, 'id': 7, 'postag': 'n', 'word': '句法结构'},\n",
      "           {'deprel': 'VOB', 'head': 2, 'id': 8, 'postag': 'n', 'word': '信息'},\n",
      "           {'deprel': 'WP', 'head': 2, 'id': 9, 'postag': 'w', 'word': '，'},\n",
      "           {'deprel': 'COO', 'head': 2, 'id': 10, 'postag': 'v', 'word': '实现'},\n",
      "           {'deprel': 'DE', 'head': 13, 'id': 11, 'postag': 'p', 'word': '对'},\n",
      "           {'deprel': 'POB',\n",
      "            'head': 11,\n",
      "            'id': 12,\n",
      "            'postag': 'n',\n",
      "            'word': '自然语言'},\n",
      "           {'deprel': 'DE', 'head': 15, 'id': 13, 'postag': 'u', 'word': '的'},\n",
      "           {'deprel': 'ATT', 'head': 15, 'id': 14, 'postag': 'a', 'word': '精准'},\n",
      "           {'deprel': 'VOB',\n",
      "            'head': 10,\n",
      "            'id': 15,\n",
      "            'postag': 'vn',\n",
      "            'word': '理解'}],\n",
      " 'log_id': 3468952207210404230,\n",
      " 'text': '自动分析文本中的依存句法结构信息，实现对自然语言的精准理解'}\n"
     ]
    }
   ],
   "source": [
    "text = '自动分析文本中的依存句法结构信息，实现对自然语言的精准理解'\n",
    "dt = client.depParser(text)\n",
    "pprint.pprint(dt)"
   ]
  },
  {
   "cell_type": "code",
   "execution_count": null,
   "metadata": {},
   "outputs": [],
   "source": []
  }
 ],
 "metadata": {
  "kernelspec": {
   "display_name": "Python 3",
   "language": "python",
   "name": "python3"
  },
  "language_info": {
   "codemirror_mode": {
    "name": "ipython",
    "version": 3
   },
   "file_extension": ".py",
   "mimetype": "text/x-python",
   "name": "python",
   "nbconvert_exporter": "python",
   "pygments_lexer": "ipython3",
   "version": "3.7.3"
  }
 },
 "nbformat": 4,
 "nbformat_minor": 2
}
