{
 "cells": [
  {
   "cell_type": "code",
   "execution_count": 3,
   "metadata": {},
   "outputs": [
    {
     "name": "stdout",
     "output_type": "stream",
     "text": [
      "('{\"CCITokens\": [], \"ResultText\": \"我们每天的生活都离不开手机了，但是每天晚上手机冲电的时候，你的手机在那里呢？\", '\n",
      " '\"RequestId\": \"7831039a-46fa-49dd-84c1-39d99c035af9\"}')\n"
     ]
    }
   ],
   "source": [
    "from tencentcloud.common import credential\n",
    "from tencentcloud.common.profile.client_profile import ClientProfile\n",
    "from tencentcloud.common.profile.http_profile import HttpProfile\n",
    "from tencentcloud.common.exception.tencent_cloud_sdk_exception import TencentCloudSDKException \n",
    "from tencentcloud.nlp.v20190408 import nlp_client, models \n",
    "import pprint\n",
    "try: \n",
    "    cred = credential.Credential(\"？\", \"？\") \n",
    "    httpProfile = HttpProfile()\n",
    "    httpProfile.endpoint = \"nlp.tencentcloudapi.com\"\n",
    "\n",
    "    clientProfile = ClientProfile()\n",
    "    clientProfile.httpProfile = httpProfile\n",
    "    client = nlp_client.NlpClient(cred, \"ap-guangzhou\", clientProfile) \n",
    "\n",
    "    req = models.TextCorrectionRequest()\n",
    "    params = '{\"Text\":\"我们每天的生活都离不开手机了，但是每天晚上手机冲电的时候，你的手机在那里呢？\"}'\n",
    "    req.from_json_string(params)\n",
    "\n",
    "    resp = client.TextCorrection(req) \n",
    "    pprint.pprint(resp.to_json_string()) \n",
    "\n",
    "except TencentCloudSDKException as err: \n",
    "    pprint.pprint(err)"
   ]
  },
  {
   "cell_type": "code",
   "execution_count": 4,
   "metadata": {},
   "outputs": [
    {
     "name": "stdout",
     "output_type": "stream",
     "text": [
      "('{\"CCITokens\": [{\"BeginOffset\": 0, \"CorrectWord\": \"今\", \"Word\": \"令\"}, '\n",
      " '{\"BeginOffset\": 16, \"CorrectWord\": \"校\", \"Word\": \"小\"}], \"ResultText\": '\n",
      " '\"今天天气很好，我们很早起床，去学校读书\", \"RequestId\": \"caa4a035-6350-45ce-8f65-7fca3b15c7cd\"}')\n"
     ]
    }
   ],
   "source": [
    "try: \n",
    "    cred = credential.Credential(\"AKIDg8KHzTMhV4RZR4sgeNq9H9oFWXN19ay7\", \"45sPkvo225uU7VdYFjxwgEXbS7iX7Ws3\") \n",
    "    httpProfile = HttpProfile()\n",
    "    httpProfile.endpoint = \"nlp.tencentcloudapi.com\"\n",
    "\n",
    "    clientProfile = ClientProfile()\n",
    "    clientProfile.httpProfile = httpProfile\n",
    "    client = nlp_client.NlpClient(cred, \"ap-guangzhou\", clientProfile) \n",
    "\n",
    "    req = models.TextCorrectionRequest()\n",
    "    params = '{\"Text\":\"令天天气很好，我们很早起床，去学小读书\"}'\n",
    "    req.from_json_string(params)\n",
    "\n",
    "    resp = client.TextCorrection(req) \n",
    "    pprint.pprint(resp.to_json_string()) \n",
    "\n",
    "except TencentCloudSDKException as err: \n",
    "    pprint.pprint(err)"
   ]
  },
  {
   "cell_type": "code",
   "execution_count": 5,
   "metadata": {},
   "outputs": [
    {
     "name": "stdout",
     "output_type": "stream",
     "text": [
      "('{\"CCITokens\": [], \"ResultText\": \"寻人启示\", \"RequestId\": '\n",
      " '\"2cf89b24-7b4a-45f9-be73-b97529c4b7d6\"}')\n"
     ]
    }
   ],
   "source": [
    "try: \n",
    "    cred = credential.Credential(\"AKIDg8KHzTMhV4RZR4sgeNq9H9oFWXN19ay7\", \"45sPkvo225uU7VdYFjxwgEXbS7iX7Ws3\") \n",
    "    httpProfile = HttpProfile()\n",
    "    httpProfile.endpoint = \"nlp.tencentcloudapi.com\"\n",
    "\n",
    "    clientProfile = ClientProfile()\n",
    "    clientProfile.httpProfile = httpProfile\n",
    "    client = nlp_client.NlpClient(cred, \"ap-guangzhou\", clientProfile) \n",
    "\n",
    "    req = models.TextCorrectionRequest()\n",
    "    params = '{\"Text\":\"寻人启示\"}'\n",
    "    req.from_json_string(params)\n",
    "\n",
    "    resp = client.TextCorrection(req) \n",
    "    pprint.pprint(resp.to_json_string()) \n",
    "\n",
    "except TencentCloudSDKException as err: \n",
    "    pprint.pprint(err)"
   ]
  },
  {
   "cell_type": "code",
   "execution_count": null,
   "metadata": {},
   "outputs": [],
   "source": []
  }
 ],
 "metadata": {
  "kernelspec": {
   "display_name": "Python 3",
   "language": "python",
   "name": "python3"
  },
  "language_info": {
   "codemirror_mode": {
    "name": "ipython",
    "version": 3
   },
   "file_extension": ".py",
   "mimetype": "text/x-python",
   "name": "python",
   "nbconvert_exporter": "python",
   "pygments_lexer": "ipython3",
   "version": "3.7.3"
  }
 },
 "nbformat": 4,
 "nbformat_minor": 2
}
