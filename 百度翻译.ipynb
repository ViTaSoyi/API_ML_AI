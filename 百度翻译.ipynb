{
 "cells": [
  {
   "cell_type": "code",
   "execution_count": 2,
   "metadata": {},
   "outputs": [
    {
     "name": "stdout",
     "output_type": "stream",
     "text": [
      "{'from': 'zh', 'to': 'en', 'trans_result': [{'src': '待输入的文字', 'dst': 'Text to be entered'}]}\n"
     ]
    }
   ],
   "source": [
    "import http.client\n",
    "import hashlib\n",
    "import urllib\n",
    "import random\n",
    "import json\n",
    "\n",
    "appid = '?'  # 填写你的appid\n",
    "secretKey = '?'  # 填写你的密钥\n",
    "\n",
    "httpClient = None\n",
    "myurl = '/api/trans/vip/translate'\n",
    "\n",
    "fromLang = 'zh'   #原文语种\n",
    "toLang = 'en'   #译文语种\n",
    "salt = random.randint(32768, 65536)\n",
    "q= '待输入的文字'\n",
    "sign = appid + q + str(salt) + secretKey\n",
    "sign = hashlib.md5(sign.encode()).hexdigest()\n",
    "myurl = myurl + '?appid=' + appid + '&q=' + urllib.parse.quote(q) + '&from=' + fromLang + '&to=' + toLang + '&salt=' + str(\n",
    "salt) + '&sign=' + sign\n",
    "\n",
    "try:\n",
    "    httpClient = http.client.HTTPConnection('api.fanyi.baidu.com')\n",
    "    httpClient.request('GET', myurl)\n",
    "\n",
    "    # response是HTTPResponse对象\n",
    "    response = httpClient.getresponse()\n",
    "    result_all = response.read().decode(\"utf-8\")\n",
    "    result = json.loads(result_all)\n",
    "\n",
    "    print (result)\n",
    "\n",
    "except Exception as e:\n",
    "    print (e)\n",
    "finally:\n",
    "    if httpClient:\n",
    "        httpClient.close()"
   ]
  },
  {
   "cell_type": "code",
   "execution_count": null,
   "metadata": {},
   "outputs": [],
   "source": []
  }
 ],
 "metadata": {
  "kernelspec": {
   "display_name": "Python 3",
   "language": "python",
   "name": "python3"
  },
  "language_info": {
   "codemirror_mode": {
    "name": "ipython",
    "version": 3
   },
   "file_extension": ".py",
   "mimetype": "text/x-python",
   "name": "python",
   "nbconvert_exporter": "python",
   "pygments_lexer": "ipython3",
   "version": "3.7.3"
  }
 },
 "nbformat": 4,
 "nbformat_minor": 2
}
