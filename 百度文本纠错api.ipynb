{
 "cells": [
  {
   "cell_type": "code",
   "execution_count": 6,
   "metadata": {},
   "outputs": [
    {
     "name": "stdout",
     "output_type": "stream",
     "text": [
      "{'item': {'correct_query': '令天天气很好，我们很早起床，去学校读书',\n",
      "          'score': 0.574823,\n",
      "          'vec_fragment': [{'begin_pos': 30,\n",
      "                            'correct_frag': '学校',\n",
      "                            'end_pos': 34,\n",
      "                            'ori_frag': '学小'}]},\n",
      " 'log_id': 4345059923723723687,\n",
      " 'text': '令天天气很好，我们很早起床，去学小读书'}\n"
     ]
    }
   ],
   "source": [
    "from aip import AipNlp  # pip install baidu-aip\n",
    "import pprint\n",
    "\n",
    "# 创建连接\n",
    "APP_ID = '10fe64b596d34f08ad2884b484ae8eef'\n",
    "API_KEY = 'TEACdto7G5FwTWn033MuklB8'\n",
    "SECRET_KEY = 'L3K7va3hkNiuoXG39aZ37fx728CTAXQF'\n",
    "client = AipNlp(APP_ID, API_KEY, SECRET_KEY)\n",
    "\n",
    "# 文本纠错分析\n",
    "text = '令天天气很好，我们很早起床，去学小读书'\n",
    "dt = client.ecnet(text)\n",
    "pprint.pprint(dt)\n"
   ]
  },

  {
   "cell_type": "code",
   "execution_count": null,
   "metadata": {},
   "outputs": [],
   "source": []
  }
 ],
 "metadata": {
  "kernelspec": {
   "display_name": "Python 3",
   "language": "python",
   "name": "python3"
  },
  "language_info": {
   "codemirror_mode": {
    "name": "ipython",
    "version": 3
   },
   "file_extension": ".py",
   "mimetype": "text/x-python",
   "name": "python",
   "nbconvert_exporter": "python",
   "pygments_lexer": "ipython3",
   "version": "3.7.3"
  }
 },
 "nbformat": 4,
 "nbformat_minor": 2
}
