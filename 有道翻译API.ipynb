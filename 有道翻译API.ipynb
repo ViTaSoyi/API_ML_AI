{
 "cells": [
  {
   "cell_type": "code",
   "execution_count": 2,
   "metadata": {},
   "outputs": [
    {
     "name": "stdout",
     "output_type": "stream",
     "text": [
      "b'{\"tSpeakUrl\":\"http://openapi.youdao.com/ttsapi?q=The+text+to+be+entered&langType=en&sign=0D49DF93C87B03675A22F39D8E37CCC5&salt=1575792420255&voice=4&format=mp3&appKey=36e995aee0e1601b\",\"query\":\"\\xe5\\xbe\\x85\\xe8\\xbe\\x93\\xe5\\x85\\xa5\\xe7\\x9a\\x84\\xe6\\x96\\x87\\xe5\\xad\\x97\",\"translation\":[\"The text to be entered\"],\"errorCode\":\"0\",\"dict\":{\"url\":\"yddict://m.youdao.com/dict?le=eng&q=%E5%BE%85%E8%BE%93%E5%85%A5%E7%9A%84%E6%96%87%E5%AD%97\"},\"webdict\":{\"url\":\"http://m.youdao.com/dict?le=eng&q=%E5%BE%85%E8%BE%93%E5%85%A5%E7%9A%84%E6%96%87%E5%AD%97\"},\"l\":\"zh-CHS2en\",\"speakUrl\":\"http://openapi.youdao.com/ttsapi?q=%E5%BE%85%E8%BE%93%E5%85%A5%E7%9A%84%E6%96%87%E5%AD%97&langType=zh-CHS&sign=2C873B06CDC0F3FF9F9CD8E943A88C3A&salt=1575792420255&voice=4&format=mp3&appKey=36e995aee0e1601b\"}'\n"
     ]
    }
   ],
   "source": [
    "import sys\n",
    "import uuid\n",
    "import requests\n",
    "import hashlib\n",
    "import time\n",
    "from imp import reload\n",
    "import time\n",
    "\n",
    "reload(sys)\n",
    "\n",
    "YOUDAO_URL = 'https://openapi.youdao.com/api'\n",
    "APP_KEY = '36e995aee0e1601b'\n",
    "APP_SECRET = '1h774iy8yW8Dlmp00PpXCj8bIQ0rKsps'\n",
    "\n",
    "def encrypt(signStr):\n",
    "    hash_algorithm = hashlib.sha256()\n",
    "    hash_algorithm.update(signStr.encode('utf-8'))\n",
    "    return hash_algorithm.hexdigest()\n",
    "\n",
    "def truncate(q):\n",
    "    if q is None:\n",
    "        return None\n",
    "    size = len(q)\n",
    "    return q if size <= 20 else q[0:10] + str(size) + q[size - 10:size]\n",
    "\n",
    "def do_request(data):\n",
    "    headers = {'Content-Type': 'application/x-www-form-urlencoded'}\n",
    "    return requests.post(YOUDAO_URL, data=data, headers=headers)\n",
    "\n",
    "def connect():\n",
    "    q = \"待输入的文字\"\n",
    "\n",
    "    data = {}\n",
    "    data['from'] = 'zh-CHS'\n",
    "    data['to'] = 'en'\n",
    "    data['signType'] = 'v3'\n",
    "    curtime = str(int(time.time()))\n",
    "    data['curtime'] = curtime\n",
    "    salt = str(uuid.uuid1())\n",
    "    signStr = APP_KEY + truncate(q) + salt + curtime + APP_SECRET\n",
    "    sign = encrypt(signStr)\n",
    "    data['appKey'] = APP_KEY\n",
    "    data['q'] = q\n",
    "    data['salt'] = salt\n",
    "    data['sign'] = sign\n",
    "\n",
    "    response = do_request(data)\n",
    "    contentType = response.headers['Content-Type']\n",
    "    print(response.content)\n",
    "\n",
    "\n",
    "if __name__ == '__main__':\n",
    "    connect()"
   ]
  },
  {
   "cell_type": "code",
   "execution_count": null,
   "metadata": {},
   "outputs": [],
   "source": []
  }
 ],
 "metadata": {
  "kernelspec": {
   "display_name": "Python 3",
   "language": "python",
   "name": "python3"
  },
  "language_info": {
   "codemirror_mode": {
    "name": "ipython",
    "version": 3
   },
   "file_extension": ".py",
   "mimetype": "text/x-python",
   "name": "python",
   "nbconvert_exporter": "python",
   "pygments_lexer": "ipython3",
   "version": "3.7.3"
  }
 },
 "nbformat": 4,
 "nbformat_minor": 2
}
