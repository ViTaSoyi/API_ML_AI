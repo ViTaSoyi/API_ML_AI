{
 "cells": [
  {
   "cell_type": "code",
   "execution_count": 9,
   "metadata": {},
   "outputs": [
    {
     "name": "stdout",
     "output_type": "stream",
     "text": [
      "{'item': {'correct_query': '我们每天的生活都离不开手机了，但是每天晚上手机充电的时候，你的手机在哪里呢？',\n",
      "          'score': 0.978199,\n",
      "          'vec_fragment': [{'begin_pos': 46,\n",
      "                            'correct_frag': '充电的',\n",
      "                            'end_pos': 52,\n",
      "                            'ori_frag': '冲电的'},\n",
      "                           {'begin_pos': 66,\n",
      "                            'correct_frag': '在哪里',\n",
      "                            'end_pos': 72,\n",
      "                            'ori_frag': '在那里'}]},\n",
      " 'log_id': 8352932149437516456,\n",
      " 'text': '我们每天的生活都离不开手机了，但是每天晚上手机冲电的时候，你的手机在那里呢？'}\n"
     ]
    }
   ],
   "source": [
    "from aip import AipNlp  # pip install baidu-aip\n",
    "import pprint\n",
    "\n",
    "# 创建连接\n",
    "APP_ID = '？'\n",
    "API_KEY = '？'\n",
    "SECRET_KEY = '？'\n",
    "client = AipNlp(APP_ID, API_KEY, SECRET_KEY)\n",
    "\n",
    "# 文本纠错分析\n",
    "text = '我们每天的生活都离不开手机了，但是每天晚上手机冲电的时候，你的手机在那里呢？'\n",
    "dt = client.ecnet(text)\n",
    "pprint.pprint(dt)\n"
   ]
  },
  {
   "cell_type": "code",
   "execution_count": 10,
   "metadata": {},
   "outputs": [
    {
     "name": "stdout",
     "output_type": "stream",
     "text": [
      "{'item': {'correct_query': '令天天气很好，我们很早起床，去学校读书',\n",
      "          'score': 0.574823,\n",
      "          'vec_fragment': [{'begin_pos': 30,\n",
      "                            'correct_frag': '学校',\n",
      "                            'end_pos': 34,\n",
      "                            'ori_frag': '学小'}]},\n",
      " 'log_id': 6879900728008294120,\n",
      " 'text': '令天天气很好，我们很早起床，去学小读书'}\n"
     ]
    }
   ],
   "source": [
    "text = '令天天气很好，我们很早起床，去学小读书'\n",
    "dt = client.ecnet(text)\n",
    "pprint.pprint(dt)"
   ]
  },
  {
   "cell_type": "code",
   "execution_count": 11,
   "metadata": {},
   "outputs": [
    {
     "name": "stdout",
     "output_type": "stream",
     "text": [
      "{'item': {'correct_query': '寻人启事',\n",
      "          'score': 0.741888,\n",
      "          'vec_fragment': [{'begin_pos': 0,\n",
      "                            'correct_frag': '寻人启事',\n",
      "                            'end_pos': 8,\n",
      "                            'ori_frag': '寻人启示'}]},\n",
      " 'log_id': 8547255632576078728,\n",
      " 'text': '寻人启示'}\n"
     ]
    }
   ],
   "source": [
    "text = '寻人启示'\n",
    "dt = client.ecnet(text)\n",
    "pprint.pprint(dt)"
   ]
  },
  {
   "cell_type": "code",
   "execution_count": 12,
   "metadata": {},
   "outputs": [
    {
     "name": "stdout",
     "output_type": "stream",
     "text": [
      "{'item': {'correct_query': '窗前明月光', 'score': 0, 'vec_fragment': []},\n",
      " 'log_id': 3240379670082509896,\n",
      " 'text': '窗前明月光'}\n"
     ]
    }
   ],
   "source": [
    "text = '窗前明月光'\n",
    "dt = client.ecnet(text)\n",
    "pprint.pprint(dt)"
   ]
  },
  {
   "cell_type": "code",
   "execution_count": 13,
   "metadata": {},
   "outputs": [
    {
     "name": "stdout",
     "output_type": "stream",
     "text": [
      "{'item': {'correct_query': 'apple是可数名词',\n",
      "          'score': 0.819965,\n",
      "          'vec_fragment': [{'begin_pos': 11,\n",
      "                            'correct_frag': '名词',\n",
      "                            'end_pos': 15,\n",
      "                            'ori_frag': '明词'}]},\n",
      " 'log_id': 3528140213946977704,\n",
      " 'text': 'apple是可数明词'}\n"
     ]
    }
   ],
   "source": [
    "text = 'apple是可数明词'\n",
    "dt = client.ecnet(text)\n",
    "pprint.pprint(dt)"
   ]
  },
  {
   "cell_type": "code",
   "execution_count": 14,
   "metadata": {},
   "outputs": [
    {
     "name": "stdout",
     "output_type": "stream",
     "text": [
      "{'item': {'correct_query': '氢氧化钙:化学式Ca(OH)2,俗称熟石灰、消十灰、石灰浆；氢氧化钙溶液:俗称石灰水,主要成分Ca(OH)2',\n",
      "          'score': 0.942287,\n",
      "          'vec_fragment': [{'begin_pos': 0,\n",
      "                            'correct_frag': '氢氧化',\n",
      "                            'end_pos': 6,\n",
      "                            'ori_frag': '轻氧化'}]},\n",
      " 'log_id': 7290725473450399016,\n",
      " 'text': '轻氧化钙:化学式Ca(OH)2,俗称熟石灰、消十灰、石灰浆；氢氧化钙溶液:俗称石灰水,主要成分Ca(OH)2'}\n"
     ]
    }
   ],
   "source": [
    "text = '轻氧化钙:化学式Ca(OH)2,俗称熟石灰、消十灰、石灰浆；氢氧化钙溶液:俗称石灰水,主要成分Ca(OH)2'\n",
    "dt = client.ecnet(text)\n",
    "pprint.pprint(dt)"
   ]
  },
  {
   "cell_type": "code",
   "execution_count": 15,
   "metadata": {},
   "outputs": [
    {
     "name": "stdout",
     "output_type": "stream",
     "text": [
      "{'item': {'correct_query': '消十灰', 'score': 0, 'vec_fragment': []},\n",
      " 'log_id': 2778024415274132104,\n",
      " 'text': '消十灰'}\n"
     ]
    }
   ],
   "source": [
    "text = '消十灰'\n",
    "dt = client.ecnet(text)\n",
    "pprint.pprint(dt)"
   ]
  },
  {
   "cell_type": "code",
   "execution_count": null,
   "metadata": {},
   "outputs": [],
   "source": []
  }
 ],
 "metadata": {
  "kernelspec": {
   "display_name": "Python 3",
   "language": "python",
   "name": "python3"
  },
  "language_info": {
   "codemirror_mode": {
    "name": "ipython",
    "version": 3
   },
   "file_extension": ".py",
   "mimetype": "text/x-python",
   "name": "python",
   "nbconvert_exporter": "python",
   "pygments_lexer": "ipython3",
   "version": "3.7.3"
  }
 },
 "nbformat": 4,
 "nbformat_minor": 2
}
