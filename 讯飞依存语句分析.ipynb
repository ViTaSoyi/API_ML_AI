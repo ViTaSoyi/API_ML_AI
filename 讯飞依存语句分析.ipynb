{
 "cells": [
  {
   "cell_type": "code",
   "execution_count": 1,
   "metadata": {},
   "outputs": [
    {
     "name": "stdout",
     "output_type": "stream",
     "text": [
      "{\"code\":\"0\",\"data\":{\"dp\":[{\"parent\":4,\"relate\":\"SBV\"},{\"parent\":4,\"relate\":\"ADV\"},{\"parent\":1,\"relate\":\"RAD\"},{\"parent\":1,\"relate\":\"RAD\"},{\"parent\":-1,\"relate\":\"HED\"},{\"parent\":4,\"relate\":\"COO\"}]},\"desc\":\"success\",\"sid\":\"ltp0011d717@dx4edf1146a74d000100\"}\n"
     ]
    }
   ],
   "source": [
    "#!/usr/bin/python\n",
    "# -*- coding: UTF-8 -*-\n",
    "import time\n",
    "import urllib.request\n",
    "import urllib.parse\n",
    "import json\n",
    "import hashlib\n",
    "import base64\n",
    "\n",
    "\n",
    "def main():\n",
    "    body = urllib.parse.urlencode({'text': '飞蛾扑火似地牺牲演出'}).encode('utf-8')\n",
    "\n",
    "    url = 'https://ltpapi.xfyun.cn/v1/dp'\n",
    "    api_key = '？'\n",
    "    param = {\"type\": \"dependent\"}\n",
    "\n",
    "    x_appid = '5de726e8'\n",
    "    x_param = base64.b64encode(json.dumps(param).replace(' ', '').encode('utf-8'))\n",
    "    x_time = int(int(round(time.time() * 1000)) / 1000)\n",
    "    x_checksum = hashlib.md5(api_key.encode('utf-8') + str(x_time).encode('utf-8') + x_param).hexdigest()\n",
    "    x_header = {'X-Appid': x_appid,\n",
    "                'X-CurTime': x_time,\n",
    "                'X-Param': x_param,\n",
    "                'X-CheckSum': x_checksum}\n",
    "    req = urllib.request.Request(url, body, x_header)\n",
    "    result = urllib.request.urlopen(req)\n",
    "    result = result.read()\n",
    "    print(result.decode('utf-8'))\n",
    "    return\n",
    "\n",
    "\n",
    "if __name__ == '__main__':\n",
    "    main()"
   ]
  },
  {
   "cell_type": "code",
   "execution_count": null,
   "metadata": {},
   "outputs": [],
   "source": []
  }
 ],
 "metadata": {
  "kernelspec": {
   "display_name": "Python 3",
   "language": "python",
   "name": "python3"
  },
  "language_info": {
   "codemirror_mode": {
    "name": "ipython",
    "version": 3
   },
   "file_extension": ".py",
   "mimetype": "text/x-python",
   "name": "python",
   "nbconvert_exporter": "python",
   "pygments_lexer": "ipython3",
   "version": "3.7.3"
  }
 },
 "nbformat": 4,
 "nbformat_minor": 2
}
